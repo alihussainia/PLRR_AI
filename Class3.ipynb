{
 "cells": [
  {
   "cell_type": "markdown",
   "metadata": {},
   "source": [
    "# Print\n",
    "\n",
    "## it shows output\n",
    "\n",
    "\n",
    "\n",
    "\n"
   ]
  },
  {
   "cell_type": "code",
   "execution_count": 1,
   "metadata": {},
   "outputs": [
    {
     "name": "stdout",
     "output_type": "stream",
     "text": [
      "Noor\n"
     ]
    }
   ],
   "source": [
    "print(\"Noor\")\n"
   ]
  },
  {
   "cell_type": "code",
   "execution_count": 3,
   "metadata": {},
   "outputs": [
    {
     "name": "stdout",
     "output_type": "stream",
     "text": [
      "25051970\n"
     ]
    }
   ],
   "source": [
    "print(\"25051970\")"
   ]
  },
  {
   "cell_type": "code",
   "execution_count": 5,
   "metadata": {},
   "outputs": [
    {
     "name": "stdout",
     "output_type": "stream",
     "text": [
      "My name is Noor Vastani. I am a student at PJ\n",
      "i am a student learning AI\n"
     ]
    }
   ],
   "source": [
    "print(\"My name is Noor Vastani. I am a student at PJ\\ni am a student learning AI\")"
   ]
  },
  {
   "cell_type": "code",
   "execution_count": 6,
   "metadata": {},
   "outputs": [
    {
     "name": "stdout",
     "output_type": "stream",
     "text": [
      "1970\n"
     ]
    }
   ],
   "source": [
    "print (1970)\n"
   ]
  },
  {
   "cell_type": "code",
   "execution_count": 7,
   "metadata": {},
   "outputs": [
    {
     "name": "stdout",
     "output_type": "stream",
     "text": [
      "22.5\n"
     ]
    }
   ],
   "source": [
    "print (22.5)"
   ]
  },
  {
   "cell_type": "code",
   "execution_count": 9,
   "metadata": {},
   "outputs": [
    {
     "name": "stdout",
     "output_type": "stream",
     "text": [
      "My name is Noor Vastani. \n",
      "I am a student\n"
     ]
    }
   ],
   "source": [
    "print(\"\"\"My name is Noor Vastani. \n",
    "I am a student\"\"\")"
   ]
  },
  {
   "cell_type": "code",
   "execution_count": 10,
   "metadata": {},
   "outputs": [
    {
     "name": "stdout",
     "output_type": "stream",
     "text": [
      "Quaid said; 'No force can undo Pakistan'\n"
     ]
    }
   ],
   "source": [
    "print(\"Quaid said; 'No force can undo Pakistan'\")"
   ]
  },
  {
   "cell_type": "code",
   "execution_count": 11,
   "metadata": {},
   "outputs": [
    {
     "name": "stdout",
     "output_type": "stream",
     "text": [
      "Platinum jamatkhana is located at lobo street. close to Ali bhai.The facility Platinum Jamatkhana has excellent vision \n"
     ]
    }
   ],
   "source": [
    "print(\"\"\"Platinum jamatkhana is located at lobo street. close to Ali bhai.The facility Platinum Jamatkhana has excellent vision \"\"\")"
   ]
  },
  {
   "cell_type": "code",
   "execution_count": 14,
   "metadata": {},
   "outputs": [],
   "source": [
    "institute = \"Platinum Jamat khana\""
   ]
  },
  {
   "cell_type": "markdown",
   "metadata": {},
   "source": [
    "# Variables\n",
    "\n",
    "## Conventions\n",
    "\n",
    "#### Variable names cannot be enclosed\n",
    "\n",
    "#### they cannot be ONLY python keywords\n",
    "\n",
    "##### They cannot be spaced\n",
    "\n",
    "######  They cannot be ONLY numbers\n",
    "\n",
    "##### Numbers cannot come first in the variable name\n",
    "\n",
    "###### Varible name can contain only letters, numbers and underscore\n",
    "\n",
    "###### Beware of Capital letters --> Rose =! rose\n",
    "\n",
    "##### Use of Underscore for breaking up variable words--> for readability"
   ]
  },
  {
   "cell_type": "code",
   "execution_count": 16,
   "metadata": {},
   "outputs": [
    {
     "name": "stdout",
     "output_type": "stream",
     "text": [
      "123\n",
      "456\n"
     ]
    }
   ],
   "source": [
    "print(123)\n",
    "print(456)"
   ]
  },
  {
   "cell_type": "code",
   "execution_count": 19,
   "metadata": {},
   "outputs": [
    {
     "name": "stdout",
     "output_type": "stream",
     "text": [
      "My date of birth is 25051970\n"
     ]
    }
   ],
   "source": [
    "print(\"My date of birth is \" + \"25051970\")"
   ]
  },
  {
   "cell_type": "code",
   "execution_count": 22,
   "metadata": {},
   "outputs": [
    {
     "name": "stdout",
     "output_type": "stream",
     "text": [
      "22\n"
     ]
    }
   ],
   "source": [
    "print (\"2\"+\"2\")"
   ]
  },
  {
   "cell_type": "code",
   "execution_count": null,
   "metadata": {},
   "outputs": [],
   "source": []
  }
 ],
 "metadata": {
  "kernelspec": {
   "display_name": "Python 3",
   "language": "python",
   "name": "python3"
  },
  "language_info": {
   "codemirror_mode": {
    "name": "ipython",
    "version": 3
   },
   "file_extension": ".py",
   "mimetype": "text/x-python",
   "name": "python",
   "nbconvert_exporter": "python",
   "pygments_lexer": "ipython3",
   "version": "3.7.4"
  }
 },
 "nbformat": 4,
 "nbformat_minor": 2
}
